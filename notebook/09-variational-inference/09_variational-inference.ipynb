{
  "cells": [
    {
      "cell_type": "markdown",
      "source": [
        "In this post we'll have a look at what's know as **variational inference (VI)**, a family of _approximate_ Bayesian inference methods, and how to use it in Turing.jl as an alternative to other approaches such as MCMC. In particular, we will focus on one of the more standard VI methods called **Automatic Differentation Variational Inference (ADVI)**.\n\nHere we will focus on how to use VI in Turing and not much on the theory underlying VI. If you're interested in understanding the mathematics you can checkout [our write-up](../../docs/for-developers/variational_inference) or any other resource online (there a lot of great ones).\n\nUsing VI in Turing.jl is very straight forward. If `model` denotes a definition of a `Turing.Model`, performing VI is as simple as"
      ],
      "metadata": {}
    },
    {
      "outputs": [],
      "cell_type": "code",
      "source": [
        "m = model(data...) # instantiate model on the data\nq = vi(m, vi_alg)  # perform VI on `m` using the VI method `vi_alg`, which returns a `VariationalPosterior`"
      ],
      "metadata": {},
      "execution_count": null
    },
    {
      "cell_type": "markdown",
      "source": [
        "Thus it's no more work than standard MCMC sampling in Turing.\n\nTo get a bit more into what we can do with `vi`, we'll first have a look at a simple example and then we'll reproduce the [tutorial on Bayesian linear regression](../../tutorials/5-linearregression) using VI instead of MCMC. Finally we'll look at some of the different parameters of `vi` and how you for example can use your own custom variational family.\n\n## Setup"
      ],
      "metadata": {}
    },
    {
      "outputs": [],
      "cell_type": "code",
      "source": [
        "using Random\nusing Turing\nusing Turing: Variational\n\nRandom.seed!(42);"
      ],
      "metadata": {},
      "execution_count": null
    },
    {
      "cell_type": "markdown",
      "source": [
        "## Simple example: Normal-Gamma conjugate model\n\nThe Normal-(Inverse)Gamma conjugate model is defined by the following generative process\n\n\\begin{align}\n    s &\\sim \\mathrm{InverseGamma}(2, 3) \\\\\n    m &\\sim \\mathcal{N}(0, s) \\\\\n    x_i &\\overset{\\text{i.i.d.}}{=} \\mathcal{N}(m, s), \\quad i = 1, \\dots, n\n\\end{align}\n\nRecall that *conjugate* refers to the fact that we can obtain a closed-form expression for the posterior. Of course one wouldn't use something like variational inference for a conjugate model, but it's useful as a simple demonstration as we can compare the result to the true posterior.\n\nFirst we generate some synthetic data, define the `Turing.Model` and instantiate the model on the data:"
      ],
      "metadata": {}
    },
    {
      "outputs": [],
      "cell_type": "code",
      "source": [
        "# generate data\nx = randn(2000);"
      ],
      "metadata": {},
      "execution_count": null
    },
    {
      "outputs": [],
      "cell_type": "code",
      "source": [
        "@model function model(x)\n    s ~ InverseGamma(2, 3)\n    m ~ Normal(0.0, sqrt(s))\n    for i = 1:length(x)\n        x[i] ~ Normal(m, sqrt(s))\n    end\nend;"
      ],
      "metadata": {},
      "execution_count": null
    },
    {
      "outputs": [],
      "cell_type": "code",
      "source": [
        "# Instantiate model\nm = model(x);"
      ],
      "metadata": {},
      "execution_count": null
    },
    {
      "cell_type": "markdown",
      "source": [
        "Now we'll produce some samples from the posterior using a MCMC method, which in constrast to VI is guaranteed to converge to the *exact* posterior (as the number of samples go to infinity).\n\nWe'll produce 10 000 samples with 200 steps used for adaptation and a target acceptance rate of 0.65\n\nIf you don't understand what \"adaptation\" or \"target acceptance rate\" refers to, all you really need to know is that `NUTS` is known to be one of the most accurate and efficient samplers (when applicable) while requiring little to no hand-tuning to work well."
      ],
      "metadata": {}
    },
    {
      "outputs": [],
      "cell_type": "code",
      "source": [
        "samples_nuts = sample(m, NUTS(200, 0.65), 10_000);"
      ],
      "metadata": {},
      "execution_count": null
    },
    {
      "cell_type": "markdown",
      "source": [
        "Now let's try VI. The most important function you need to now about to do VI in Turing is `vi`:"
      ],
      "metadata": {}
    },
    {
      "outputs": [],
      "cell_type": "code",
      "source": [
        "@doc(Variational.vi)"
      ],
      "metadata": {},
      "execution_count": null
    },
    {
      "cell_type": "markdown",
      "source": [
        "Additionally, you can pass\n- an initial variational posterior `q`, for which we assume there exists a implementation of `update(::typeof(q), θ::AbstractVector)` returning an updated posterior `q` with parameters `θ`.\n- a function mapping $\\theta \\mapsto q_{\\theta}$ (denoted above `getq`) together with initial parameters `θ`. This provides more flexibility in the types of variational families that we can use, and can sometimes be slightly more convenient for quick and rough work.\n\nBy default, i.e. when calling `vi(m, advi)`, Turing use a *mean-field* approximation with a multivariate normal as the base-distribution. Mean-field refers to the fact that we assume all the latent variables to be *independent*. This the \"standard\" ADVI approach; see [Automatic Differentiation Variational Inference (2016)](https://arxiv.org/abs/1603.00788) for more. In Turing, one can obtain such a mean-field approximation by calling `Variational.meanfield(model)` for which there exists an internal implementation for `update`:"
      ],
      "metadata": {}
    },
    {
      "outputs": [],
      "cell_type": "code",
      "source": [
        "@doc(Variational.meanfield)"
      ],
      "metadata": {},
      "execution_count": null
    },
    {
      "cell_type": "markdown",
      "source": [
        "Currently the only implementation of `VariationalInference` available is `ADVI`, which is very convenient and applicable as long as your `Model` is differentiable with respect to the *variational parameters*, that is, the parameters of your variational distribution, e.g. mean and variance in the mean-field approximation."
      ],
      "metadata": {}
    },
    {
      "outputs": [],
      "cell_type": "code",
      "source": [
        "@doc(Variational.ADVI)"
      ],
      "metadata": {},
      "execution_count": null
    },
    {
      "cell_type": "markdown",
      "source": [
        "To perform VI on the model `m` using 10 samples for gradient estimation and taking 1000 gradient steps is then as simple as:"
      ],
      "metadata": {}
    },
    {
      "outputs": [],
      "cell_type": "code",
      "source": [
        "# ADVI\nadvi = ADVI(10, 1000)\nq = vi(m, advi);"
      ],
      "metadata": {},
      "execution_count": null
    },
    {
      "cell_type": "markdown",
      "source": [
        "Unfortunately, for such a small problem Turing's new `NUTS` sampler is *so* efficient now that it's not that much more efficient to use ADVI. So, so very unfortunate...\n\nWith that being said, this is not the case in general. For very complex models we'll later find that `ADVI` produces very reasonable results in a much shorter time than `NUTS`.\n\nAnd one significant advantage of using `vi` is that we can sample from the resulting `q` with ease. In fact, the result of the `vi` call is a `TransformedDistribution` from Bijectors.jl, and it implements the Distributions.jl interface for a `Distribution`:"
      ],
      "metadata": {}
    },
    {
      "outputs": [],
      "cell_type": "code",
      "source": [
        "q isa MultivariateDistribution"
      ],
      "metadata": {},
      "execution_count": null
    },
    {
      "cell_type": "markdown",
      "source": [
        "This means that we can call `rand` to sample from the variational posterior `q`"
      ],
      "metadata": {}
    },
    {
      "outputs": [],
      "cell_type": "code",
      "source": [
        "rand(q)"
      ],
      "metadata": {},
      "execution_count": null
    },
    {
      "cell_type": "markdown",
      "source": [
        "and `logpdf` to compute the log-probability"
      ],
      "metadata": {}
    },
    {
      "outputs": [],
      "cell_type": "code",
      "source": [
        "logpdf(q, rand(q))"
      ],
      "metadata": {},
      "execution_count": null
    },
    {
      "cell_type": "markdown",
      "source": [
        "Let's check the first and second moments of the data to see how our approximation compares to the point-estimates form the data:"
      ],
      "metadata": {}
    },
    {
      "outputs": [],
      "cell_type": "code",
      "source": [
        "var(x), mean(x)"
      ],
      "metadata": {},
      "execution_count": null
    },
    {
      "outputs": [],
      "cell_type": "code",
      "source": [
        "(mean(rand(q, 1000); dims = 2)..., )"
      ],
      "metadata": {},
      "execution_count": null
    },
    {
      "outputs": [],
      "cell_type": "code",
      "source": [
        "let\n    v, m = (mean(rand(q, 1000); dims = 2)..., )\n    # On Turing version 0.14, this atol could be 0.01.\n    @assert isapprox(v, 1.022; atol=0.1)\n    @assert isapprox(m, -0.027; atol=0.01)\nend"
      ],
      "metadata": {},
      "execution_count": null
    },
    {
      "cell_type": "markdown",
      "source": [
        "That's pretty close! But we're Bayesian so we're not interested in *just* matching the mean.\nLet's instead look the actual density `q`. \n\nFor that we need samples:"
      ],
      "metadata": {}
    },
    {
      "outputs": [],
      "cell_type": "code",
      "source": [
        "samples = rand(q, 10000);"
      ],
      "metadata": {},
      "execution_count": null
    },
    {
      "outputs": [],
      "cell_type": "code",
      "source": [
        "# setup for plotting\nusing Plots, LaTeXStrings, StatsPlots"
      ],
      "metadata": {},
      "execution_count": null
    },
    {
      "outputs": [],
      "cell_type": "code",
      "source": [
        "p1 = histogram(samples[1, :], bins=100, normed=true, alpha=0.2, color = :blue, label = \"\")\ndensity!(samples[1, :], label = \"s (ADVI)\", color = :blue, linewidth = 2)\ndensity!(samples_nuts, :s; label = \"s (NUTS)\", color = :green, linewidth = 2)\nvline!([var(x)], label = \"s (data)\", color = :black)\nvline!([mean(samples[1, :])], color = :blue, label =\"\")\n\np2 = histogram(samples[2, :], bins=100, normed=true, alpha=0.2, color = :blue, label = \"\")\ndensity!(samples[2, :], label = \"m (ADVI)\", color = :blue, linewidth = 2)\ndensity!(samples_nuts, :m; label = \"m (NUTS)\", color = :green, linewidth = 2)\nvline!([mean(x)], color = :black, label = \"m (data)\")\nvline!([mean(samples[2, :])], color = :blue, label=\"\")\n\nplot(p1, p2, layout=(2, 1), size=(900, 500))"
      ],
      "metadata": {},
      "execution_count": null
    },
    {
      "cell_type": "markdown",
      "source": [
        "For this particular `Model`, we can in fact obtain the posterior of the latent variables in closed form. This allows us to compare both `NUTS` and `ADVI` to the true posterior $p(s, m \\mid \\{x_i\\}_{i = 1}^n )$.\n\n*The code below is just work to get the marginals $p(s \\mid \\{x_i\\}_{i = 1}^n)$ and $p(m \\mid \\{x_i\\}_{i = 1}^n)$ from the posterior obtained using ConjugatePriors.jl. Feel free to skip it.*"
      ],
      "metadata": {}
    },
    {
      "outputs": [],
      "cell_type": "code",
      "source": [
        "# used to compute closed form expression of posterior\nusing ConjugatePriors\n\n# closed form computation\n# notation mapping has been verified by explicitly computing expressions\n# in \"Conjugate Bayesian analysis of the Gaussian distribution\" by Murphy\nμ₀ = 0.0 # => μ\nκ₀ = 1.0 # => ν, which scales the precision of the Normal\nα₀ = 2.0 # => \"shape\"\nβ₀ = 3.0 # => \"rate\", which is 1 / θ, where θ is \"scale\"\n\n# prior\npri = NormalGamma(μ₀, κ₀, α₀, β₀)\n\n# posterior\npost = posterior(pri, Normal, x)\n\n# marginal distribution of τ = 1 / σ²\n# Eq. (90) in \"Conjugate Bayesian analysis of the Gaussian distribution\" by Murphy\n# `scale(post)` = θ\np_τ = Gamma(post.shape, scale(post))\np_σ²_pdf = z -> pdf(p_τ, 1 / z) # τ => 1 / σ² \n\n# marginal of μ\n# Eq. (91) in \"Conjugate Bayesian analysis of the Gaussian distribution\" by Murphy\np_μ = TDist(2 * post.shape)\n\nμₙ = post.mu    # μ → μ\nκₙ = post.nu    # κ → ν\nαₙ = post.shape # α → shape\nβₙ = post.rate  # β → rate\n\n# numerically more stable but doesn't seem to have effect; issue is probably internal to\n# `pdf` which needs to compute ≈ Γ(1000) \np_μ_pdf = z -> exp(logpdf(p_μ, (z - μₙ) * exp(- 0.5 * log(βₙ) + 0.5 * log(αₙ) + 0.5 * log(κₙ))))\n\n# posterior plots\np1 = plot();\nhistogram!(samples[1, :], bins=100, normed=true, alpha=0.2, color = :blue, label = \"\")\ndensity!(samples[1, :], label = \"s (ADVI)\", color = :blue)\ndensity!(samples_nuts, :s; label = \"s (NUTS)\", color = :green)\nvline!([mean(samples[1, :])], linewidth = 1.5, color = :blue, label =\"\")\n\n# normalize using Riemann approx. because of (almost certainly) numerical issues\nΔ = 0.001\nr = 0.75:0.001:1.50\nnorm_const = sum(p_σ²_pdf.(r) .* Δ)\nplot!(r, p_σ²_pdf, label = \"s (posterior)\", color = :red);\nvline!([var(x)], label = \"s (data)\", linewidth = 1.5, color = :black, alpha = 0.7);\nxlims!(0.75, 1.35);\n\np2 = plot();\nhistogram!(samples[2, :], bins=100, normed=true, alpha=0.2, color = :blue, label = \"\")\ndensity!(samples[2, :], label = \"m (ADVI)\", color = :blue)\ndensity!(samples_nuts, :m; label = \"m (NUTS)\", color = :green)\nvline!([mean(samples[2, :])], linewidth = 1.5, color = :blue, label=\"\")\n\n\n# normalize using Riemann approx. because of (almost certainly) numerical issues\nΔ = 0.0001\nr = -0.1 + mean(x):Δ:0.1 + mean(x)\nnorm_const = sum(p_μ_pdf.(r) .* Δ)\nplot!(r, z -> p_μ_pdf(z) / norm_const, label = \"m (posterior)\", color = :red);\nvline!([mean(x)], label = \"m (data)\", linewidth = 1.5, color = :black, alpha = 0.7);\n\nxlims!(-0.25, 0.25);\n\np = plot(p1, p2; layout=(2, 1), size=(900, 500))"
      ],
      "metadata": {},
      "execution_count": null
    },
    {
      "cell_type": "markdown",
      "source": [
        "# Bayesian linear regression example using `ADVI`\n\nThis is simply a duplication of the tutorial [5. Linear regression](../regression/02_linear-regression) but now with the addition of an approximate posterior obtained using `ADVI`.\n\nAs we'll see, there is really no additional work required to apply variational inference to a more complex `Model`.\n\n## Copy-paste from [5. Linear regression](../regression/02_linear-regression)\n\nThis section is basically copy-pasting the code from the [linear regression tutorial](../regression/02_linear-regression)."
      ],
      "metadata": {}
    },
    {
      "outputs": [],
      "cell_type": "code",
      "source": [
        "Random.seed!(1);"
      ],
      "metadata": {},
      "execution_count": null
    },
    {
      "outputs": [],
      "cell_type": "code",
      "source": [
        "# Import RDatasets.\nusing RDatasets\n\n# Hide the progress prompt while sampling.\nTuring.setprogress!(false);"
      ],
      "metadata": {},
      "execution_count": null
    },
    {
      "outputs": [],
      "cell_type": "code",
      "source": [
        "# Import the \"Default\" dataset.\ndata = RDatasets.dataset(\"datasets\", \"mtcars\");\n\n# Show the first six rows of the dataset.\nfirst(data, 6)"
      ],
      "metadata": {},
      "execution_count": null
    },
    {
      "outputs": [],
      "cell_type": "code",
      "source": [
        "# Function to split samples.\nfunction split_data(df, at = 0.70)\n    r = size(df,1)\n    index = Int(round(r * at))\n    train = df[1:index, :]\n    test  = df[(index+1):end, :]\n    return train, test\nend\n\n# A handy helper function to rescale our dataset.\nfunction standardize(x)\n    return (x .- mean(x, dims=1)) ./ std(x, dims=1), x\nend\n\n# Another helper function to unstandardize our datasets.\nfunction unstandardize(x, orig)\n    return (x .+ mean(orig, dims=1)) .* std(orig, dims=1)\nend"
      ],
      "metadata": {},
      "execution_count": null
    },
    {
      "outputs": [],
      "cell_type": "code",
      "source": [
        "# Remove the model column.\nselect!(data, Not(:Model))\n\n# Standardize our dataset.\n(std_data, data_arr) = standardize(Matrix(data))\n\n# Split our dataset 70%/30% into training/test sets.\ntrain, test = split_data(std_data, 0.7)\n\n# Save dataframe versions of our dataset.\ntrain_cut = DataFrame(train, names(data))\ntest_cut = DataFrame(test, names(data))\n\n# Create our labels. These are the values we are trying to predict.\ntrain_label = train_cut[:, :MPG]\ntest_label = test_cut[:, :MPG]\n\n# Get the list of columns to keep.\nremove_names = filter(x->!in(x, [:MPG, :Model]), names(data))\n\n# Filter the test and train sets.\ntrain = Matrix(train_cut[:,remove_names]);\ntest = Matrix(test_cut[:,remove_names]);"
      ],
      "metadata": {},
      "execution_count": null
    },
    {
      "outputs": [],
      "cell_type": "code",
      "source": [
        "# Bayesian linear regression.\n@model function linear_regression(x, y, n_obs, n_vars, ::Type{T}=Vector{Float64}) where {T}\n    # Set variance prior.\n    σ₂ ~ truncated(Normal(0,100), 0, Inf)\n\n    # Set intercept prior.\n    intercept ~ Normal(0, 3)\n\n    # Set the priors on our coefficients.\n    coefficients ~ MvNormal(zeros(n_vars), 10 * ones(n_vars))\n\n    # Calculate all the mu terms.\n    mu = intercept .+ x * coefficients\n    y ~ MvNormal(mu, σ₂)\nend;"
      ],
      "metadata": {},
      "execution_count": null
    },
    {
      "outputs": [],
      "cell_type": "code",
      "source": [
        "n_obs, n_vars = size(train)\nm = linear_regression(train, train_label, n_obs, n_vars);"
      ],
      "metadata": {},
      "execution_count": null
    },
    {
      "cell_type": "markdown",
      "source": [
        "## Performing VI\n\nFirst we define the initial variational distribution, or, equivalently, the family of distributions to consider. We're going to use the same mean-field approximation as Turing will use by default when we call `vi(m, advi)`, which we obtain by calling `Variational.meanfield`. This returns a `TransformedDistribution` with a `TuringDiagMvNormal` as the underlying distribution and the transformation mapping from the reals to the domain of the latent variables."
      ],
      "metadata": {}
    },
    {
      "outputs": [],
      "cell_type": "code",
      "source": [
        "q0 = Variational.meanfield(m)\ntypeof(q0)"
      ],
      "metadata": {},
      "execution_count": null
    },
    {
      "outputs": [],
      "cell_type": "code",
      "source": [
        "advi = ADVI(10, 10_000)"
      ],
      "metadata": {},
      "execution_count": null
    },
    {
      "cell_type": "markdown",
      "source": [
        "Turing also provides a couple of different optimizers:\n- `TruncatedADAGrad` (default)\n- `DecayedADAGrad`\nas these are well-suited for problems with high-variance stochastic objectives, which is usually what the ELBO ends up being at different times in our optimization process.\n\nWith that being said, thanks to Requires.jl, if we add a `using Flux` prior to `using Turing` we can also make use of all the optimizers in `Flux`, e.g. `ADAM`, without any additional changes to your code! For example:"
      ],
      "metadata": {}
    },
    {
      "outputs": [],
      "cell_type": "code",
      "source": [
        "using Flux, Turing\nusing Turing.Variational\n\nvi(m, advi; optimizer = Flux.ADAM())"
      ],
      "metadata": {},
      "execution_count": null
    },
    {
      "cell_type": "markdown",
      "source": [
        "just works.\n\nFor this problem we'll use the `DecayedADAGrad` from Turing:"
      ],
      "metadata": {}
    },
    {
      "outputs": [],
      "cell_type": "code",
      "source": [
        "opt = Variational.DecayedADAGrad(1e-2, 1.1, 0.9)"
      ],
      "metadata": {},
      "execution_count": null
    },
    {
      "outputs": [],
      "cell_type": "code",
      "source": [
        "q = vi(m, advi, q0; optimizer = opt)\ntypeof(q)"
      ],
      "metadata": {},
      "execution_count": null
    },
    {
      "cell_type": "markdown",
      "source": [
        "*Note: as mentioned before, we internally define a `update(q::TransformedDistribution{<:TuringDiagMvNormal}, θ::AbstractVector)` method which takes in the current variational approximation `q` together with new parameters `z` and returns the new variational approximation. This is required so that we can actually update the `Distribution` object after each optimization step.*\n\n*Alternatively, we can instead provide the mapping $\\theta \\mapsto q_{\\theta}$ directly together with initial parameters using the signature `vi(m, advi, getq, θ_init)` as mentioned earlier. We'll see an explicit example of this later on!*\n\nTo compute statistics for our approximation we need samples:"
      ],
      "metadata": {}
    },
    {
      "outputs": [],
      "cell_type": "code",
      "source": [
        "z = rand(q, 10_000);"
      ],
      "metadata": {},
      "execution_count": null
    },
    {
      "cell_type": "markdown",
      "source": [
        "Now we can for example look at the average"
      ],
      "metadata": {}
    },
    {
      "outputs": [],
      "cell_type": "code",
      "source": [
        "avg = vec(mean(z; dims = 2))"
      ],
      "metadata": {},
      "execution_count": null
    },
    {
      "cell_type": "markdown",
      "source": [
        "The vector has the same ordering as the model, e.g. in this case `σ₂` has index `1`, `intercept` has index `2` and `coefficients` has indices `3:12`. If  you forget or you might want to do something programmatically with the result, you can obtain the `sym → indices` mapping as follows:"
      ],
      "metadata": {}
    },
    {
      "outputs": [],
      "cell_type": "code",
      "source": [
        "_, sym2range = bijector(m, Val(true));\nsym2range"
      ],
      "metadata": {},
      "execution_count": null
    },
    {
      "outputs": [],
      "cell_type": "code",
      "source": [
        "avg[union(sym2range[:σ₂]...)]"
      ],
      "metadata": {},
      "execution_count": null
    },
    {
      "outputs": [],
      "cell_type": "code",
      "source": [
        "avg[union(sym2range[:intercept]...)]"
      ],
      "metadata": {},
      "execution_count": null
    },
    {
      "outputs": [],
      "cell_type": "code",
      "source": [
        "avg[union(sym2range[:coefficients]...)]"
      ],
      "metadata": {},
      "execution_count": null
    },
    {
      "cell_type": "markdown",
      "source": [
        "*Note: as you can see, this is slightly awkward to work with at the moment. We'll soon add a better way of dealing with this.*\n\nWith a bit of work (this will be much easier in the future), we can also visualize the approximate marginals of the different variables, similar to `plot(chain)`:"
      ],
      "metadata": {}
    },
    {
      "outputs": [],
      "cell_type": "code",
      "source": [
        "function plot_variational_marginals(z, sym2range)\n    ps = []\n\n    for (i, sym) in enumerate(keys(sym2range))\n        indices = union(sym2range[sym]...)  # <= array of ranges\n        if sum(length.(indices)) > 1\n            offset = 1\n            for r in indices\n                for j in r\n                    p = density(z[j, :], title = \"$(sym)[$offset]\", titlefontsize = 10, label = \"\")\n                    push!(ps, p)\n\n                    offset += 1\n                end\n            end\n        else\n            p = density(z[first(indices), :], title = \"$(sym)\", titlefontsize = 10, label = \"\")\n            push!(ps, p)\n        end\n    end\n    \n    return plot(ps..., layout = (length(ps), 1), size = (500, 1500))\nend"
      ],
      "metadata": {},
      "execution_count": null
    },
    {
      "outputs": [],
      "cell_type": "code",
      "source": [
        "plot_variational_marginals(z, sym2range)"
      ],
      "metadata": {},
      "execution_count": null
    },
    {
      "cell_type": "markdown",
      "source": [
        "And let's compare this to using the `NUTS` sampler:"
      ],
      "metadata": {}
    },
    {
      "outputs": [],
      "cell_type": "code",
      "source": [
        "chain = sample(m, NUTS(0.65), 10_000);"
      ],
      "metadata": {},
      "execution_count": null
    },
    {
      "outputs": [],
      "cell_type": "code",
      "source": [
        "plot(chain)"
      ],
      "metadata": {},
      "execution_count": null
    },
    {
      "outputs": [],
      "cell_type": "code",
      "source": [
        "vi_mean = vec(mean(z; dims = 2))[[union(sym2range[:coefficients]...)..., union(sym2range[:intercept]...)..., union(sym2range[:σ₂]...)...]]"
      ],
      "metadata": {},
      "execution_count": null
    },
    {
      "outputs": [],
      "cell_type": "code",
      "source": [
        "mean(chain).nt.mean"
      ],
      "metadata": {},
      "execution_count": null
    },
    {
      "cell_type": "markdown",
      "source": [
        "One thing we can look at is simply the squared error between the means:"
      ],
      "metadata": {}
    },
    {
      "outputs": [],
      "cell_type": "code",
      "source": [
        "sum(abs2, mean(chain).nt.mean .- vi_mean)"
      ],
      "metadata": {},
      "execution_count": null
    },
    {
      "cell_type": "markdown",
      "source": [
        "That looks pretty good! But let's see how the predictive distributions looks for the two.\n\n## Prediction\n\nSimilarily to the linear regression tutorial, we're going to compare to multivariate ordinary linear regression using the `GLM` package:"
      ],
      "metadata": {}
    },
    {
      "outputs": [],
      "cell_type": "code",
      "source": [
        "# Import the GLM package.\nusing GLM\n\n# Perform multivariate OLS.\nols = lm(@formula(MPG ~ Cyl + Disp + HP + DRat + WT + QSec + VS + AM + Gear + Carb), train_cut)\n\n# Store our predictions in the original dataframe.\ntrain_cut.OLSPrediction = unstandardize(GLM.predict(ols), data.MPG);\ntest_cut.OLSPrediction = unstandardize(GLM.predict(ols, test_cut), data.MPG);"
      ],
      "metadata": {},
      "execution_count": null
    },
    {
      "outputs": [],
      "cell_type": "code",
      "source": [
        "# Make a prediction given an input vector.\nfunction prediction_chain(chain, x)\n    p = get_params(chain)\n    α = mean(p.intercept)\n    β = collect(mean.(p.coefficients))\n    return  α .+ x * β\nend"
      ],
      "metadata": {},
      "execution_count": null
    },
    {
      "outputs": [],
      "cell_type": "code",
      "source": [
        "# Make a prediction using samples from the variational posterior given an input vector.\nfunction prediction(samples::AbstractVector, sym2ranges, x)\n    α = mean(samples[union(sym2ranges[:intercept]...)])\n    β = vec(mean(samples[union(sym2ranges[:coefficients]...)]; dims = 2))\n    return  α .+ x * β\nend\n\nfunction prediction(samples::AbstractMatrix, sym2ranges, x)\n    α = mean(samples[union(sym2ranges[:intercept]...), :])\n    β = vec(mean(samples[union(sym2ranges[:coefficients]...), :]; dims = 2))\n    return  α .+ x * β\nend"
      ],
      "metadata": {},
      "execution_count": null
    },
    {
      "outputs": [],
      "cell_type": "code",
      "source": [
        "# Unstandardize the dependent variable.\ntrain_cut.MPG = unstandardize(train_cut.MPG, data.MPG);\ntest_cut.MPG = unstandardize(test_cut.MPG, data.MPG);"
      ],
      "metadata": {},
      "execution_count": null
    },
    {
      "outputs": [],
      "cell_type": "code",
      "source": [
        "# Show the first side rows of the modified dataframe.\nfirst(test_cut, 6)"
      ],
      "metadata": {},
      "execution_count": null
    },
    {
      "outputs": [],
      "cell_type": "code",
      "source": [
        "z = rand(q, 10_000);"
      ],
      "metadata": {},
      "execution_count": null
    },
    {
      "outputs": [],
      "cell_type": "code",
      "source": [
        "# Calculate the predictions for the training and testing sets using the samples `z` from variational posterior\ntrain_cut.VIPredictions = unstandardize(prediction(z, sym2range, train), data.MPG);\ntest_cut.VIPredictions = unstandardize(prediction(z, sym2range, test), data.MPG);\n\ntrain_cut.BayesPredictions = unstandardize(prediction_chain(chain, train), data.MPG);\ntest_cut.BayesPredictions = unstandardize(prediction_chain(chain, test), data.MPG);"
      ],
      "metadata": {},
      "execution_count": null
    },
    {
      "outputs": [],
      "cell_type": "code",
      "source": [
        "vi_loss1 = mean((train_cut.VIPredictions - train_cut.MPG).^2)\nbayes_loss1 = mean((train_cut.BayesPredictions - train_cut.MPG).^2)\nols_loss1 = mean((train_cut.OLSPrediction - train_cut.MPG).^2)\n\nvi_loss2 = mean((test_cut.VIPredictions - test_cut.MPG).^2)\nbayes_loss2 = mean((test_cut.BayesPredictions - test_cut.MPG).^2)\nols_loss2 = mean((test_cut.OLSPrediction - test_cut.MPG).^2)\n\nprintln(\"Training set:\n    VI loss: $vi_loss1\n    Bayes loss: $bayes_loss1\n    OLS loss: $ols_loss1\nTest set: \n    VI loss: $vi_loss2\n    Bayes loss: $bayes_loss2\n    OLS loss: $ols_loss2\")"
      ],
      "metadata": {},
      "execution_count": null
    },
    {
      "cell_type": "markdown",
      "source": [
        "Interestingly the squared difference between true- and mean-prediction on the test-set is actually *better* for the mean-field variational posterior than for the \"true\" posterior obtained by MCMC sampling using `NUTS`. But, as Bayesians, we know that the mean doesn't tell the entire story. One quick check is to look at the mean predictions ± standard deviation of the two different approaches:"
      ],
      "metadata": {}
    },
    {
      "outputs": [],
      "cell_type": "code",
      "source": [
        "z = rand(q, 1000);\npreds = hcat([unstandardize(prediction(z[:, i], sym2range, test), data.MPG) for i = 1:size(z, 2)]...);\n\nscatter(1:size(test, 1), mean(preds; dims = 2), yerr=std(preds; dims = 2), label=\"prediction (mean ± std)\", size = (900, 500), markersize = 8)\nscatter!(1:size(test, 1), unstandardize(test_label, data.MPG), label=\"true\")\nxaxis!(1:size(test, 1))\nylims!(95, 140)\ntitle!(\"Mean-field ADVI (Normal)\")"
      ],
      "metadata": {},
      "execution_count": null
    },
    {
      "outputs": [],
      "cell_type": "code",
      "source": [
        "preds = hcat([unstandardize(prediction_chain(chain[i], test), data.MPG) for i = 1:5:size(chain, 1)]...);\n\nscatter(1:size(test, 1), mean(preds; dims = 2), yerr=std(preds; dims = 2), label=\"prediction (mean ± std)\", size = (900, 500), markersize = 8)\nscatter!(1:size(test, 1), unstandardize(test_label, data.MPG), label=\"true\")\nxaxis!(1:size(test, 1))\nylims!(95, 140)\ntitle!(\"MCMC (NUTS)\")"
      ],
      "metadata": {},
      "execution_count": null
    },
    {
      "cell_type": "markdown",
      "source": [
        "Indeed we see that the MCMC approach generally provides better uncertainty estimates than the mean-field ADVI approach! Good. So all the work we've done to make MCMC fast isn't for nothing.\n\n## Alternative: provide parameter-to-distribution instead of `q` with`update` implemented\n\nAs mentioned earlier, it's also possible to just provide the mapping $\\theta \\mapsto q_{\\theta}$ rather than the variational family / initial variational posterior `q`, i.e. use the interface `vi(m, advi, getq, θ_init)` where `getq` is the mapping $\\theta \\mapsto q_{\\theta}$\n\nIn this section we're going to construct a mean-field approximation to the model by hand using a composition of`Shift` and `Scale` from Bijectors.jl togheter with a standard multivariate Gaussian as the base distribution."
      ],
      "metadata": {}
    },
    {
      "outputs": [],
      "cell_type": "code",
      "source": [
        "using Bijectors"
      ],
      "metadata": {},
      "execution_count": null
    },
    {
      "outputs": [],
      "cell_type": "code",
      "source": [
        "using Bijectors: Scale, Shift"
      ],
      "metadata": {},
      "execution_count": null
    },
    {
      "outputs": [],
      "cell_type": "code",
      "source": [
        "d = length(q)\nbase_dist = Turing.DistributionsAD.TuringDiagMvNormal(zeros(d), ones(d))"
      ],
      "metadata": {},
      "execution_count": null
    },
    {
      "cell_type": "markdown",
      "source": [
        "`bijector(model::Turing.Model)` is defined by Turing, and will return a `bijector` which takes you from the space of the latent variables to the real space. In this particular case, this is a mapping `((0, ∞) × ℝ × ℝ¹⁰) → ℝ¹²`. We're interested in using a normal distribution as a base-distribution and transform samples to the latent space, thus we need the inverse mapping from the reals to the latent space:"
      ],
      "metadata": {}
    },
    {
      "outputs": [],
      "cell_type": "code",
      "source": [
        "to_constrained = inv(bijector(m));"
      ],
      "metadata": {},
      "execution_count": null
    },
    {
      "outputs": [],
      "cell_type": "code",
      "source": [
        "function getq(θ)\n    d = length(θ) ÷ 2\n    A = @inbounds θ[1:d]\n    b = @inbounds θ[d + 1: 2 * d]\n    \n    b = to_constrained ∘ Shift(b; dim = Val(1)) ∘ Scale(exp.(A); dim = Val(1))\n    \n    return transformed(base_dist, b)\nend"
      ],
      "metadata": {},
      "execution_count": null
    },
    {
      "outputs": [],
      "cell_type": "code",
      "source": [
        "q_mf_normal = vi(m, advi, getq, randn(2 * d));"
      ],
      "metadata": {},
      "execution_count": null
    },
    {
      "outputs": [],
      "cell_type": "code",
      "source": [
        "p1 = plot_variational_marginals(rand(q_mf_normal, 10_000), sym2range) # MvDiagNormal + Affine transformation + to_constrained\np2 = plot_variational_marginals(rand(q, 10_000), sym2range)  # Turing.meanfield(m)\n\nplot(p1, p2, layout = (1, 2), size = (800, 2000))"
      ],
      "metadata": {},
      "execution_count": null
    },
    {
      "cell_type": "markdown",
      "source": [
        "As expected, the fits look pretty much identical.\n\nBut using this interface it becomes trivial to go beyond the mean-field assumption we made for the variational posterior, as we'll see in the next section.\n\n### Relaxing the mean-field assumption\n\nHere we'll instead consider the variational family to be a full non-diagonal multivariate Gaussian. As in the previous section we'll implement this by transforming a standard multivariate Gaussian using `Scale` and `Shift`, but now `Scale` will instead be using a lower-triangular matrix (representing the Cholesky of the covariance matrix of a multivariate normal) in contrast to the diagonal matrix we used in for the mean-field approximate posterior."
      ],
      "metadata": {}
    },
    {
      "outputs": [],
      "cell_type": "code",
      "source": [
        "using LinearAlgebra"
      ],
      "metadata": {},
      "execution_count": null
    },
    {
      "outputs": [],
      "cell_type": "code",
      "source": [
        "# Using `ComponentArrays.jl` together with `UnPack.jl` makes our lives much easier.\nusing ComponentArrays, UnPack"
      ],
      "metadata": {},
      "execution_count": null
    },
    {
      "outputs": [],
      "cell_type": "code",
      "source": [
        "proto_arr = ComponentArray(\n    L = zeros(d, d),\n    b = zeros(d)\n)\nproto_axes = proto_arr |> getaxes\nnum_params = length(proto_arr)\n\nfunction getq(θ)\n    L, b = begin\n        @unpack L, b = ComponentArray(θ, proto_axes)\n        LowerTriangular(L), b\n    end\n    # For this to represent a covariance matrix we need to ensure that the diagonal is positive.\n    # We can enforce this by zeroing out the diagonal and then adding back the diagonal exponentiated.\n    D = Diagonal(diag(L))\n    A = L - D + exp(D) # exp for Diagonal is the same as exponentiating only the diagonal entries\n    \n    b = to_constrained ∘ Shift(b; dim = Val(1)) ∘ Scale(A; dim = Val(1))\n    \n    return transformed(base_dist, b)\nend"
      ],
      "metadata": {},
      "execution_count": null
    },
    {
      "outputs": [],
      "cell_type": "code",
      "source": [
        "advi = ADVI(10, 20_000)"
      ],
      "metadata": {},
      "execution_count": null
    },
    {
      "outputs": [],
      "cell_type": "code",
      "source": [
        "q_full_normal = vi(m, advi, getq, randn(num_params); optimizer = Variational.DecayedADAGrad(1e-2));"
      ],
      "metadata": {},
      "execution_count": null
    },
    {
      "cell_type": "markdown",
      "source": [
        "Let's have a look at the learned covariance matrix:"
      ],
      "metadata": {}
    },
    {
      "outputs": [],
      "cell_type": "code",
      "source": [
        "A = q_full_normal.transform.ts[1].a"
      ],
      "metadata": {},
      "execution_count": null
    },
    {
      "outputs": [],
      "cell_type": "code",
      "source": [
        "heatmap(cov(A * A'))"
      ],
      "metadata": {},
      "execution_count": null
    },
    {
      "outputs": [],
      "cell_type": "code",
      "source": [
        "zs = rand(q_full_normal, 10_000);"
      ],
      "metadata": {},
      "execution_count": null
    },
    {
      "outputs": [],
      "cell_type": "code",
      "source": [
        "p1 = plot_variational_marginals(rand(q_mf_normal, 10_000), sym2range)\np2 = plot_variational_marginals(rand(q_full_normal, 10_000), sym2range)\n\nplot(p1, p2, layout = (1, 2), size = (800, 2000))"
      ],
      "metadata": {},
      "execution_count": null
    },
    {
      "cell_type": "markdown",
      "source": [
        "So it seems like the \"full\" ADVI approach, i.e. no mean-field assumption, obtain the same modes as the mean-field approach but with greater uncertainty for some of the `coefficients`. This"
      ],
      "metadata": {}
    },
    {
      "outputs": [],
      "cell_type": "code",
      "source": [
        "# Unfortunately, it seems like this has quite a high variance which is likely to be due to numerical instability, \n# so we consider a larger number of samples. If we get a couple of outliers due to numerical issues, \n# these kind affect the mean prediction greatly.\nz = rand(q_full_normal, 10_000);"
      ],
      "metadata": {},
      "execution_count": null
    },
    {
      "outputs": [],
      "cell_type": "code",
      "source": [
        "train_cut.VIFullPredictions = unstandardize(prediction(z, sym2range, train), data.MPG);\ntest_cut.VIFullPredictions = unstandardize(prediction(z, sym2range, test), data.MPG);"
      ],
      "metadata": {},
      "execution_count": null
    },
    {
      "outputs": [],
      "cell_type": "code",
      "source": [
        "vi_loss1 = mean((train_cut.VIPredictions - train_cut.MPG).^2)\nvifull_loss1 = mean((train_cut.VIFullPredictions - train_cut.MPG).^2)\nbayes_loss1 = mean((train_cut.BayesPredictions - train_cut.MPG).^2)\nols_loss1 = mean((train_cut.OLSPrediction - train_cut.MPG).^2)\n\nvi_loss2 = mean((test_cut.VIPredictions - test_cut.MPG).^2)\nvifull_loss2 = mean((test_cut.VIFullPredictions - test_cut.MPG).^2)\nbayes_loss2 = mean((test_cut.BayesPredictions - test_cut.MPG).^2)\nols_loss2 = mean((test_cut.OLSPrediction - test_cut.MPG).^2)\n\nprintln(\"Training set:\n    VI loss: $vi_loss1\n    Bayes loss: $bayes_loss1\n    OLS loss: $ols_loss1\nTest set: \n    VI loss: $vi_loss2\n    Bayes loss: $bayes_loss2\n    OLS loss: $ols_loss2\")"
      ],
      "metadata": {},
      "execution_count": null
    },
    {
      "outputs": [],
      "cell_type": "code",
      "source": [
        "# Verify the loss on the test set.\n@assert vi_loss2 < 0.01\n@assert bayes_loss2 < 0.000001"
      ],
      "metadata": {},
      "execution_count": null
    },
    {
      "outputs": [],
      "cell_type": "code",
      "source": [
        "z = rand(q_mf_normal, 1000);\npreds = hcat([unstandardize(prediction(z[:, i], sym2range, test), data.MPG) for i = 1:size(z, 2)]...);\n\np1 = scatter(1:size(test, 1), mean(preds; dims = 2), yerr=std(preds; dims = 2), label=\"prediction (mean ± std)\", size = (900, 500), markersize = 8)\nscatter!(1:size(test, 1), unstandardize(test_label, data.MPG), label=\"true\")\nxaxis!(1:size(test, 1))\nylims!(95, 140)\ntitle!(\"Mean-field ADVI (Normal)\")"
      ],
      "metadata": {},
      "execution_count": null
    },
    {
      "outputs": [],
      "cell_type": "code",
      "source": [
        "z = rand(q_full_normal, 1000);\npreds = hcat([unstandardize(prediction(z[:, i], sym2range, test), data.MPG) for i = 1:size(z, 2)]...);\n\np2 = scatter(1:size(test, 1), mean(preds; dims = 2), yerr=std(preds; dims = 2), label=\"prediction (mean ± std)\", size = (900, 500), markersize = 8)\nscatter!(1:size(test, 1), unstandardize(test_label, data.MPG), label=\"true\")\nxaxis!(1:size(test, 1))\nylims!(95, 140)\ntitle!(\"Full ADVI (Normal)\")"
      ],
      "metadata": {},
      "execution_count": null
    },
    {
      "outputs": [],
      "cell_type": "code",
      "source": [
        "preds = hcat([unstandardize(prediction_chain(chain[i], test), data.MPG) for i = 1:5:size(chain, 1)]...);\n\np3 = scatter(1:size(test, 1), mean(preds; dims = 2), yerr=std(preds; dims = 2), label=\"prediction (mean ± std)\", size = (900, 500), markersize = 8)\nscatter!(1:size(test, 1), unstandardize(test_label, data.MPG), label=\"true\")\nxaxis!(1:size(test, 1))\nylims!(95, 140)\ntitle!(\"MCMC (NUTS)\")"
      ],
      "metadata": {},
      "execution_count": null
    },
    {
      "outputs": [],
      "cell_type": "code",
      "source": [
        "plot(p1, p2, p3, layout = (1, 3), size = (900, 250), label=\"\")"
      ],
      "metadata": {},
      "execution_count": null
    },
    {
      "cell_type": "markdown",
      "source": [
        "Here we actually see that indeed both the full ADVI and the MCMC approaches does a much better job of quantifying the uncertainty of predictions for never-before-seen samples, with full ADVI seemingly *underestimating* the variance slightly compared to MCMC.\n\nSo now you know how to do perform VI on your Turing.jl model! Great isn't it?"
      ],
      "metadata": {}
    },
    {
      "outputs": [],
      "cell_type": "code",
      "source": [
        "if isdefined(Main, :TuringTutorials)\n    Main.TuringTutorials.tutorial_footer(WEAVE_ARGS[:folder], WEAVE_ARGS[:file])\nend"
      ],
      "metadata": {},
      "execution_count": null
    }
  ],
  "nbformat_minor": 2,
  "metadata": {
    "language_info": {
      "file_extension": ".jl",
      "mimetype": "application/julia",
      "name": "julia",
      "version": "1.6.2"
    },
    "kernelspec": {
      "name": "julia-1.6",
      "display_name": "Julia 1.6.2",
      "language": "julia"
    }
  },
  "nbformat": 4
}
